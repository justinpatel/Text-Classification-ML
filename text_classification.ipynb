{
  "nbformat": 4,
  "nbformat_minor": 0,
  "metadata": {
    "colab": {
      "name": "text classification.ipynb",
      "provenance": [],
      "authorship_tag": "ABX9TyOhj+A9cKmQrvHO3RuEe4/3",
      "include_colab_link": true
    },
    "kernelspec": {
      "name": "python3",
      "display_name": "Python 3"
    },
    "accelerator": "GPU"
  },
  "cells": [
    {
      "cell_type": "markdown",
      "metadata": {
        "id": "view-in-github",
        "colab_type": "text"
      },
      "source": [
        "<a href=\"https://colab.research.google.com/github/justinpatel/Text-Classification-ML/blob/master/text_classification.ipynb\" target=\"_parent\"><img src=\"https://colab.research.google.com/assets/colab-badge.svg\" alt=\"Open In Colab\"/></a>"
      ]
    },
    {
      "cell_type": "code",
      "metadata": {
        "id": "7R3GqJvcw_1C",
        "colab_type": "code",
        "colab": {}
      },
      "source": [
        "import tensorflow as tf\n",
        "import numpy as np\n",
        "\n",
        "VOCAB_SIZE = 88584\n",
        "MAXLEN = 250\n",
        "BATCH_SIZE = 64"
      ],
      "execution_count": 29,
      "outputs": []
    },
    {
      "cell_type": "code",
      "metadata": {
        "id": "OGG9OUskxP5M",
        "colab_type": "code",
        "colab": {
          "base_uri": "https://localhost:8080/",
          "height": 50
        },
        "outputId": "d7b436e9-3dcd-4ec8-f828-58e309063b5a"
      },
      "source": [
        "(train_data, train_label), (test_data, test_label) = tf.keras.datasets.imdb.load_data(num_words=VOCAB_SIZE)"
      ],
      "execution_count": 2,
      "outputs": [
        {
          "output_type": "stream",
          "text": [
            "Downloading data from https://storage.googleapis.com/tensorflow/tf-keras-datasets/imdb.npz\n",
            "17465344/17464789 [==============================] - 0s 0us/step\n"
          ],
          "name": "stdout"
        }
      ]
    },
    {
      "cell_type": "code",
      "metadata": {
        "id": "MPdnRIs3xdhs",
        "colab_type": "code",
        "colab": {
          "base_uri": "https://localhost:8080/",
          "height": 34
        },
        "outputId": "d6a19b2d-c4b7-485f-899e-1e4cedafac4a"
      },
      "source": [
        "train_data.shape"
      ],
      "execution_count": 3,
      "outputs": [
        {
          "output_type": "execute_result",
          "data": {
            "text/plain": [
              "(25000,)"
            ]
          },
          "metadata": {
            "tags": []
          },
          "execution_count": 3
        }
      ]
    },
    {
      "cell_type": "code",
      "metadata": {
        "id": "KRQow7LZxg9i",
        "colab_type": "code",
        "colab": {
          "base_uri": "https://localhost:8080/",
          "height": 34
        },
        "outputId": "85e03891-316a-4ac1-8d89-d4a013155d67"
      },
      "source": [
        "test_data.shape"
      ],
      "execution_count": 4,
      "outputs": [
        {
          "output_type": "execute_result",
          "data": {
            "text/plain": [
              "(25000,)"
            ]
          },
          "metadata": {
            "tags": []
          },
          "execution_count": 4
        }
      ]
    },
    {
      "cell_type": "code",
      "metadata": {
        "id": "Ypu40gUkxipZ",
        "colab_type": "code",
        "colab": {}
      },
      "source": [
        "train_data = tf.keras.preprocessing.sequence.pad_sequences(train_data, maxlen=MAXLEN)\n",
        "test_data = tf.keras.preprocessing.sequence.pad_sequences(test_data, maxlen=MAXLEN)"
      ],
      "execution_count": 5,
      "outputs": []
    },
    {
      "cell_type": "code",
      "metadata": {
        "id": "7oHNulfIx1Pu",
        "colab_type": "code",
        "colab": {
          "base_uri": "https://localhost:8080/",
          "height": 34
        },
        "outputId": "7a408dcf-77b8-41b1-a0aa-1642b6d81f1e"
      },
      "source": [
        "train_data.shape"
      ],
      "execution_count": 6,
      "outputs": [
        {
          "output_type": "execute_result",
          "data": {
            "text/plain": [
              "(25000, 250)"
            ]
          },
          "metadata": {
            "tags": []
          },
          "execution_count": 6
        }
      ]
    },
    {
      "cell_type": "code",
      "metadata": {
        "id": "e38w4fLqx2ls",
        "colab_type": "code",
        "colab": {}
      },
      "source": [
        "model = tf.keras.models.Sequential([\n",
        "                                    tf.keras.layers.Embedding(VOCAB_SIZE, 32),\n",
        "                                    tf.keras.layers.LSTM(32),\n",
        "                                    tf.keras.layers.Dense(1, activation=\"sigmoid\")\n",
        "])"
      ],
      "execution_count": 7,
      "outputs": []
    },
    {
      "cell_type": "code",
      "metadata": {
        "id": "WShr32zUyRPk",
        "colab_type": "code",
        "colab": {
          "base_uri": "https://localhost:8080/",
          "height": 252
        },
        "outputId": "5efda609-0feb-407b-8b55-d85854c7cfb0"
      },
      "source": [
        "model.summary()"
      ],
      "execution_count": 8,
      "outputs": [
        {
          "output_type": "stream",
          "text": [
            "Model: \"sequential\"\n",
            "_________________________________________________________________\n",
            "Layer (type)                 Output Shape              Param #   \n",
            "=================================================================\n",
            "embedding (Embedding)        (None, None, 32)          2834688   \n",
            "_________________________________________________________________\n",
            "lstm (LSTM)                  (None, 32)                8320      \n",
            "_________________________________________________________________\n",
            "dense (Dense)                (None, 1)                 33        \n",
            "=================================================================\n",
            "Total params: 2,843,041\n",
            "Trainable params: 2,843,041\n",
            "Non-trainable params: 0\n",
            "_________________________________________________________________\n"
          ],
          "name": "stdout"
        }
      ]
    },
    {
      "cell_type": "code",
      "metadata": {
        "id": "lzC-2n1nyZcv",
        "colab_type": "code",
        "colab": {}
      },
      "source": [
        "model.compile(optimizer='rmsprop',loss='binary_crossentropy', metrics=['acc'])"
      ],
      "execution_count": 9,
      "outputs": []
    },
    {
      "cell_type": "code",
      "metadata": {
        "id": "ckgFdE9JyopU",
        "colab_type": "code",
        "colab": {
          "base_uri": "https://localhost:8080/",
          "height": 353
        },
        "outputId": "2a0e3074-2374-4ff7-c6fe-70a71bad6fd4"
      },
      "source": [
        "history = model.fit(train_data, train_label, batch_size=BATCH_SIZE, validation_split=0.2, epochs=10)"
      ],
      "execution_count": 10,
      "outputs": [
        {
          "output_type": "stream",
          "text": [
            "Epoch 1/10\n",
            "313/313 [==============================] - 19s 59ms/step - loss: 0.4451 - acc: 0.7951 - val_loss: 0.3956 - val_acc: 0.8552\n",
            "Epoch 2/10\n",
            "313/313 [==============================] - 18s 57ms/step - loss: 0.2365 - acc: 0.9103 - val_loss: 0.2934 - val_acc: 0.8732\n",
            "Epoch 3/10\n",
            "313/313 [==============================] - 17s 55ms/step - loss: 0.1727 - acc: 0.9387 - val_loss: 0.3229 - val_acc: 0.8712\n",
            "Epoch 4/10\n",
            "313/313 [==============================] - 17s 54ms/step - loss: 0.1374 - acc: 0.9510 - val_loss: 0.4058 - val_acc: 0.8436\n",
            "Epoch 5/10\n",
            "313/313 [==============================] - 18s 56ms/step - loss: 0.1106 - acc: 0.9632 - val_loss: 0.3146 - val_acc: 0.8846\n",
            "Epoch 6/10\n",
            "313/313 [==============================] - 17s 56ms/step - loss: 0.0906 - acc: 0.9696 - val_loss: 0.3222 - val_acc: 0.8792\n",
            "Epoch 7/10\n",
            "313/313 [==============================] - 17s 55ms/step - loss: 0.0737 - acc: 0.9761 - val_loss: 0.4045 - val_acc: 0.8744\n",
            "Epoch 8/10\n",
            "313/313 [==============================] - 17s 55ms/step - loss: 0.0638 - acc: 0.9797 - val_loss: 0.4233 - val_acc: 0.8708\n",
            "Epoch 9/10\n",
            "313/313 [==============================] - 17s 55ms/step - loss: 0.0563 - acc: 0.9829 - val_loss: 0.3944 - val_acc: 0.8800\n",
            "Epoch 10/10\n",
            "313/313 [==============================] - 17s 55ms/step - loss: 0.0466 - acc: 0.9854 - val_loss: 0.4368 - val_acc: 0.8818\n"
          ],
          "name": "stdout"
        }
      ]
    },
    {
      "cell_type": "code",
      "metadata": {
        "id": "UvyEEkErzbVz",
        "colab_type": "code",
        "colab": {
          "base_uri": "https://localhost:8080/",
          "height": 34
        },
        "outputId": "b93bb5be-50dd-4ca1-8152-e72847491de5"
      },
      "source": [
        "result = model.evaluate(test_data, test_label)"
      ],
      "execution_count": 11,
      "outputs": [
        {
          "output_type": "stream",
          "text": [
            "782/782 [==============================] - 12s 16ms/step - loss: 0.5505 - acc: 0.8456\n"
          ],
          "name": "stdout"
        }
      ]
    },
    {
      "cell_type": "code",
      "metadata": {
        "id": "0gFJSjLMzcUk",
        "colab_type": "code",
        "colab": {
          "base_uri": "https://localhost:8080/",
          "height": 34
        },
        "outputId": "5fb06dbb-40d9-42b6-9c4b-8b34105e3975"
      },
      "source": [
        "print(result)"
      ],
      "execution_count": 12,
      "outputs": [
        {
          "output_type": "stream",
          "text": [
            "[0.5505431890487671, 0.8456400036811829]\n"
          ],
          "name": "stdout"
        }
      ]
    },
    {
      "cell_type": "markdown",
      "metadata": {
        "id": "tl0ZlU9P1FTz",
        "colab_type": "text"
      },
      "source": [
        "Prediction"
      ]
    },
    {
      "cell_type": "code",
      "metadata": {
        "id": "FRmb4T8m1Hg5",
        "colab_type": "code",
        "colab": {
          "base_uri": "https://localhost:8080/",
          "height": 50
        },
        "outputId": "44016669-9e6b-4b0b-aac1-af5391276563"
      },
      "source": [
        "word_index = tf.keras.datasets.imdb.get_word_index()"
      ],
      "execution_count": 13,
      "outputs": [
        {
          "output_type": "stream",
          "text": [
            "Downloading data from https://storage.googleapis.com/tensorflow/tf-keras-datasets/imdb_word_index.json\n",
            "1646592/1641221 [==============================] - 0s 0us/step\n"
          ],
          "name": "stdout"
        }
      ]
    },
    {
      "cell_type": "code",
      "metadata": {
        "id": "bshBig8z1ROV",
        "colab_type": "code",
        "colab": {}
      },
      "source": [
        "word_index"
      ],
      "execution_count": null,
      "outputs": []
    },
    {
      "cell_type": "code",
      "metadata": {
        "id": "DxrJuCcX1S9N",
        "colab_type": "code",
        "colab": {}
      },
      "source": [
        "def encode_text(text):\n",
        "  tokens = tf.keras.preprocessing.text.text_to_word_sequence(text)\n",
        "  tokens = [word_index[word] if word in tokens else 0 for word in tokens]\n",
        "  return tf.keras.preprocessing.sequence.pad_sequences([tokens], maxlen=MAXLEN)[0]"
      ],
      "execution_count": 16,
      "outputs": []
    },
    {
      "cell_type": "code",
      "metadata": {
        "id": "wdkRpmbLja8M",
        "colab_type": "code",
        "colab": {
          "base_uri": "https://localhost:8080/",
          "height": 252
        },
        "outputId": "00679384-147d-47a5-ce39-93869759e8ac"
      },
      "source": [
        "text = \"that movie was just amazing!\"\n",
        "encoded = encode_text(text)\n",
        "print(encoded)"
      ],
      "execution_count": 21,
      "outputs": [
        {
          "output_type": "stream",
          "text": [
            "[  0   0   0   0   0   0   0   0   0   0   0   0   0   0   0   0   0   0\n",
            "   0   0   0   0   0   0   0   0   0   0   0   0   0   0   0   0   0   0\n",
            "   0   0   0   0   0   0   0   0   0   0   0   0   0   0   0   0   0   0\n",
            "   0   0   0   0   0   0   0   0   0   0   0   0   0   0   0   0   0   0\n",
            "   0   0   0   0   0   0   0   0   0   0   0   0   0   0   0   0   0   0\n",
            "   0   0   0   0   0   0   0   0   0   0   0   0   0   0   0   0   0   0\n",
            "   0   0   0   0   0   0   0   0   0   0   0   0   0   0   0   0   0   0\n",
            "   0   0   0   0   0   0   0   0   0   0   0   0   0   0   0   0   0   0\n",
            "   0   0   0   0   0   0   0   0   0   0   0   0   0   0   0   0   0   0\n",
            "   0   0   0   0   0   0   0   0   0   0   0   0   0   0   0   0   0   0\n",
            "   0   0   0   0   0   0   0   0   0   0   0   0   0   0   0   0   0   0\n",
            "   0   0   0   0   0   0   0   0   0   0   0   0   0   0   0   0   0   0\n",
            "   0   0   0   0   0   0   0   0   0   0   0   0   0   0   0   0   0   0\n",
            "   0   0   0   0   0   0   0   0   0   0   0  12  17  13  40 477]\n"
          ],
          "name": "stdout"
        }
      ]
    },
    {
      "cell_type": "code",
      "metadata": {
        "id": "Jhtjl-rBjlUN",
        "colab_type": "code",
        "colab": {}
      },
      "source": [
        "reverse_word_index= {value: key for (key,value) in word_index.items()}\n",
        "\n",
        "def decode_integers(integers):\n",
        "  pad = 0\n",
        "  text = \"\"\n",
        "  for num in integers:\n",
        "    if num!=pad:\n",
        "      text += reverse_word_index[num] + \" \"\n",
        "  return text[:-1]"
      ],
      "execution_count": 27,
      "outputs": []
    },
    {
      "cell_type": "code",
      "metadata": {
        "id": "rv4tHbTrkmoq",
        "colab_type": "code",
        "colab": {
          "base_uri": "https://localhost:8080/",
          "height": 34
        },
        "outputId": "dd666023-f277-47d1-ae1b-089c9818bc56"
      },
      "source": [
        "print(decode_integers(encoded))"
      ],
      "execution_count": 28,
      "outputs": [
        {
          "output_type": "stream",
          "text": [
            "that movie was just amazing\n"
          ],
          "name": "stdout"
        }
      ]
    },
    {
      "cell_type": "code",
      "metadata": {
        "id": "Lq6A7hkqkqjn",
        "colab_type": "code",
        "colab": {}
      },
      "source": [
        "def predict(text):\n",
        "  encoded_text = encode_text(text)\n",
        "  pred = np.zeros((1,MAXLEN))\n",
        "  pred[0] = encoded_text\n",
        "  result = model.predict(pred)\n",
        "  print(result[0])"
      ],
      "execution_count": 35,
      "outputs": []
    },
    {
      "cell_type": "code",
      "metadata": {
        "id": "KOdp7QwsnDoh",
        "colab_type": "code",
        "colab": {
          "base_uri": "https://localhost:8080/",
          "height": 34
        },
        "outputId": "10173eaf-5d45-4f35-bf44-86a73af225fe"
      },
      "source": [
        "positive_review = \"I thought that movie sucks, but it was really awesome and great\"\n",
        "predict(positive_review)"
      ],
      "execution_count": 41,
      "outputs": [
        {
          "output_type": "stream",
          "text": [
            "[0.6631945]\n"
          ],
          "name": "stdout"
        }
      ]
    },
    {
      "cell_type": "code",
      "metadata": {
        "id": "UCQ6yMsfnRwm",
        "colab_type": "code",
        "colab": {}
      },
      "source": [
        "model.save(\"text_classification_v1.h5\")"
      ],
      "execution_count": 42,
      "outputs": []
    },
    {
      "cell_type": "code",
      "metadata": {
        "id": "xC-bWhxBp1eF",
        "colab_type": "code",
        "colab": {}
      },
      "source": [
        ""
      ],
      "execution_count": null,
      "outputs": []
    }
  ]
}